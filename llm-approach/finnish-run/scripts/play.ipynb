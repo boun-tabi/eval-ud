{
 "cells": [
  {
   "cell_type": "code",
   "execution_count": 1,
   "metadata": {},
   "outputs": [],
   "source": [
    "from spacy.lang.tr import Turkish\n",
    "from rapidfuzz import fuzz\n",
    "nlp = Turkish()\n",
    "tokenizer = nlp.tokenizer"
   ]
  },
  {
   "cell_type": "code",
   "execution_count": 35,
   "metadata": {},
   "outputs": [
    {
     "name": "stdout",
     "output_type": "stream",
     "text": [
      "0.875\n"
     ]
    }
   ],
   "source": [
    "generated_text = 'Ben okula gittim.'\n",
    "generated_tokens = [token.text for token in tokenizer(generated_text)]\n",
    "original_text = 'Ben gittim.'\n",
    "original_tokens = [token.text for token in tokenizer(original_text)]\n",
    "\n",
    "def get_matches(original_tokens, generated_tokens):\n",
    "    match_generated_d = {}\n",
    "    for i, token in enumerate(original_tokens):\n",
    "        for j in range(1, 3):\n",
    "            ratios = [fuzz.ratio(token, generated_tokens[k]) for k in range(j)]\n",
    "            max_ratio = max(ratios)\n",
    "            max_index = ratios.index(max_ratio)\n",
    "            match_generated_d[i] = generated_tokens[max_index]\n",
    "        if len(generated_tokens) > len(original_tokens) - i:\n",
    "            generated_tokens = generated_tokens[1:]\n",
    "    matches = {original_tokens[i]: match_generated_d[i] for i in range(len(original_tokens))}\n",
    "    return matches\n",
    "\n",
    "def get_accuracy(matches):\n",
    "    correct, all = 0, 0\n",
    "    for k, v in matches.items():\n",
    "        if k == v:\n",
    "            correct += 1\n",
    "        all += 1\n",
    "    return correct / all\n",
    "\n",
    "original_matches = get_matches(original_tokens, generated_tokens)\n",
    "original_accuracy = get_accuracy(original_matches)\n",
    "generated_matches = get_matches(generated_tokens, original_tokens)\n",
    "generated_accuracy = get_accuracy(generated_matches)\n",
    "print(sum([original_accuracy, generated_accuracy]) / 2)\n",
    "\n",
    "# correct, all = 0, 0\n",
    "# for i, token in enumerate(original_tokens):\n",
    "#     generated_token = match_generated_d[i]\n",
    "#     if token == generated_token:\n",
    "#         correct += 1\n",
    "#     all += 1\n",
    "\n",
    "# generated_tokens = [token.text for token in tokenizer(generated_text)]\n",
    "# for i, token in enumerate(generated_tokens):\n",
    "#     if token == original_tokens[i]:\n",
    "#         correct += 1\n",
    "#     all += 1\n",
    "\n",
    "# print(f'Correct: {correct}, All: {all}, Accuracy: {correct/all}')"
   ]
  },
  {
   "cell_type": "code",
   "execution_count": 21,
   "metadata": {},
   "outputs": [
    {
     "data": {
      "text/plain": [
       "['I', \"needn't\", 'do', 'that', '.']"
      ]
     },
     "execution_count": 21,
     "metadata": {},
     "output_type": "execute_result"
    }
   ],
   "source": [
    "[token.text for token in tokenizer('I needn\\'t do that.')]"
   ]
  },
  {
   "cell_type": "code",
   "execution_count": null,
   "metadata": {},
   "outputs": [],
   "source": []
  }
 ],
 "metadata": {
  "kernelspec": {
   "display_name": ".venv",
   "language": "python",
   "name": "python3"
  },
  "language_info": {
   "codemirror_mode": {
    "name": "ipython",
    "version": 3
   },
   "file_extension": ".py",
   "mimetype": "text/x-python",
   "name": "python",
   "nbconvert_exporter": "python",
   "pygments_lexer": "ipython3",
   "version": "3.11.5"
  }
 },
 "nbformat": 4,
 "nbformat_minor": 2
}
