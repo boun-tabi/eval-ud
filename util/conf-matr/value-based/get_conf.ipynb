{
 "cells": [
  {
   "cell_type": "code",
   "execution_count": 2,
   "metadata": {},
   "outputs": [],
   "source": [
    "import argparse, os, re, json\n",
    "import matplotlib.pyplot as plt\n",
    "import pandas as pd\n",
    "import seaborn as sn"
   ]
  },
  {
   "cell_type": "code",
   "execution_count": 58,
   "metadata": {},
   "outputs": [],
   "source": [
    "pred_st = '575'\n",
    "type_t = 'upos_feats'\n",
    "tb_v = '2.11'\n",
    "tests_parsed_dir = '../../../../steps-parser/src/tests-parsed/'\n",
    "conllu_list = os.listdir(tests_parsed_dir)\n",
    "pred_filename = [f for f in conllu_list if f.startswith(pred_st)][0]\n",
    "pred_filepath = os.path.join(tests_parsed_dir, pred_filename)\n",
    "gold_filepath = '../../../tr_boun/v%s/test.conllu' % tb_v\n",
    "\n",
    "gold_sent_pattern = r'# sent_id = (.*?)\\n# text = (.*?)\\n(.*?)\\n\\n'\n",
    "pred_sent_pattern = r'(.*?)\\n\\n'\n",
    "with open(gold_filepath, 'r', encoding='utf-8') as f:\n",
    "    gold_tb = f.read()\n",
    "with open(pred_filepath, 'r', encoding='utf-8') as f:\n",
    "    pred_tb = f.read()\n",
    "gold_sents = re.findall(gold_sent_pattern, gold_tb, re.DOTALL)\n",
    "pred_sents = re.findall(pred_sent_pattern, pred_tb, re.DOTALL)"
   ]
  },
  {
   "cell_type": "code",
   "execution_count": 59,
   "metadata": {},
   "outputs": [],
   "source": [
    "feat_d = dict()\n",
    "for i in range(len(gold_sents)):\n",
    "    g_sent_id, g_text, g_lines_str = gold_sents[i]\n",
    "    p_lines_str = pred_sents[i]\n",
    "\n",
    "    g_lines = g_lines_str.split('\\n')\n",
    "    p_lines = p_lines_str.split('\\n')\n",
    "    for j in range(len(g_lines)):\n",
    "        g_feats = g_lines[j].split('\\t')[5].split('|')\n",
    "        p_feats = p_lines[j].split('\\t')[5].split('|')\n",
    "        g_feat_d = dict()\n",
    "        p_feat_d = dict()\n",
    "        for g_feat_t in g_feats:\n",
    "            if g_feat_t == '_':\n",
    "                continue\n",
    "            g_tag_t, g_val_t = g_feat_t.split('=')\n",
    "            g_feat_d[g_tag_t] = g_val_t\n",
    "        for p_feat_t in p_feats:\n",
    "            if p_feat_t == '_':\n",
    "                continue\n",
    "            p_tag_t, p_val_t = p_feat_t.split('=')\n",
    "            p_feat_d[p_tag_t] = p_val_t\n",
    "        all_feats_s = set(list(g_feat_d.keys()) + list(p_feat_d.keys()))\n",
    "\n",
    "        for feat_t in all_feats_s:\n",
    "            if feat_t not in feat_d.keys():\n",
    "                feat_d[feat_t] = dict()\n",
    "            if feat_t not in g_feat_d.keys():\n",
    "                gold_t = '_'\n",
    "            else:\n",
    "                gold_t = g_feat_d[feat_t]\n",
    "            if gold_t not in feat_d[feat_t].keys():\n",
    "                feat_d[feat_t][gold_t] = dict()\n",
    "            if feat_t not in p_feat_d.keys():\n",
    "                pred_t = '_'\n",
    "            else:\n",
    "                pred_t = p_feat_d[feat_t]\n",
    "            if pred_t not in feat_d[feat_t][gold_t].keys():\n",
    "                feat_d[feat_t][gold_t][pred_t] = 0\n",
    "            feat_d[feat_t][gold_t][pred_t] += 1"
   ]
  },
  {
   "cell_type": "code",
   "execution_count": null,
   "metadata": {},
   "outputs": [],
   "source": [
    "feat_l = list(feat_d.keys())\n",
    "col_cnt = 6\n",
    "row_cnt = len(feat_l) // col_cnt + 1 if len(feat_l) % col_cnt != 0 else len(feat_l) // col_cnt\n",
    "fig, axes = plt.subplots(row_cnt, col_cnt, figsize=(30, 30))\n",
    "for idx, feat_t in enumerate(sorted(feat_l)):\n",
    "    row_t = idx // col_cnt\n",
    "    col_t = idx % col_cnt\n",
    "    all_vals = set()\n",
    "    val_l = list(feat_d[feat_t].keys())\n",
    "    all_vals = all_vals.union(set(val_l))\n",
    "    for gold_t in val_l:\n",
    "        val_val_l = list(feat_d[feat_t][gold_t].keys())\n",
    "        all_vals = all_vals.union(set(val_val_l))\n",
    "    all_val_l = sorted(list(all_vals))\n",
    "    board = [[0 for i in range(len(all_val_l))] for j in range(len(all_val_l))]\n",
    "    for i, val1 in enumerate(all_val_l):\n",
    "        for j, val2 in enumerate(all_val_l):\n",
    "            if val1 not in feat_d[feat_t].keys():\n",
    "                board[i][j] = 0\n",
    "            elif val2 not in feat_d[feat_t][val1].keys():\n",
    "                board[i][j] = 0\n",
    "            else:\n",
    "                board[i][j] = feat_d[feat_t][val1][val2]\n",
    "    df_cm = pd.DataFrame(board, index=all_val_l, columns=all_val_l)\n",
    "    axes[row_t, col_t].set_title(label=feat_t)\n",
    "    sn.heatmap(df_cm, annot=True, cmap='OrRd', ax=axes[row_t, col_t], fmt='g')\n",
    "plt.suptitle('%s CM for %s and %s' % (type_t, pred_st, tb_v))\n",
    "# plt.tight_layout()\n",
    "plt.savefig('%s/v%s-%s.png' % (type_t, tb_v, pred_st))"
   ]
  },
  {
   "cell_type": "code",
   "execution_count": null,
   "metadata": {},
   "outputs": [],
   "source": []
  }
 ],
 "metadata": {
  "kernelspec": {
   "display_name": "Python 3",
   "language": "python",
   "name": "python3"
  },
  "language_info": {
   "codemirror_mode": {
    "name": "ipython",
    "version": 3
   },
   "file_extension": ".py",
   "mimetype": "text/x-python",
   "name": "python",
   "nbconvert_exporter": "python",
   "pygments_lexer": "ipython3",
   "version": "3.10.9"
  },
  "orig_nbformat": 4,
  "vscode": {
   "interpreter": {
    "hash": "aee8b7b246df8f9039afb4144a1f6fd8d2ca17a180786b69acc140d282b71a49"
   }
  }
 },
 "nbformat": 4,
 "nbformat_minor": 2
}
